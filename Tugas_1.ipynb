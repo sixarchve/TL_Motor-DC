{
  "nbformat": 4,
  "nbformat_minor": 0,
  "metadata": {
    "colab": {
      "provenance": [],
      "authorship_tag": "ABX9TyOnpccKrhg6sdPrsjrdL05X",
      "include_colab_link": true
    },
    "kernelspec": {
      "name": "python3",
      "display_name": "Python 3"
    },
    "language_info": {
      "name": "python"
    }
  },
  "cells": [
    {
      "cell_type": "markdown",
      "metadata": {
        "id": "view-in-github",
        "colab_type": "text"
      },
      "source": [
        "<a href=\"https://colab.research.google.com/github/sixarchve/TL_Motor-DC/blob/master/Tugas_1.ipynb\" target=\"_parent\"><img src=\"https://colab.research.google.com/assets/colab-badge.svg\" alt=\"Open In Colab\"/></a>"
      ]
    },
    {
      "cell_type": "markdown",
      "source": [
        "## **Persamaan Listrik Motor DC**\n",
        "Persamaan listrik dari motor DC dapat dituliskan sebagai:\n",
        "\n",
        "$$\n",
        "V = L \\frac{di}{dt} + Ri + e\n",
        "$$\n",
        "\n",
        "dengan:  \n",
        "- V = Tegangan input (Volt)  \n",
        "- L = Induktansi kumparan (Henry)  \n",
        "- R = Resistansi kumparan (Ohm)  \n",
        "- i = Arus listrik (Ampere)  \n",
        "- $$e = K_e \\omega$$ (Gaya Gerak Listrik Balik), dengan:  \n",
        "  - $$K_e$$ = Konstanta GGL balik  \n",
        "  - $$\\omega$$ = Kecepatan sudut (rad/s)  \n"
      ],
      "metadata": {
        "id": "n5xHZdHliDK2"
      }
    },
    {
      "cell_type": "code",
      "source": [
        "import sympy\n",
        "\n",
        "# Definisi variabel simbolik\n",
        "t = symbols('t')\n",
        "V, L, R, e = symbols('V L R e')\n",
        "i = Function('i')(t)  # Definisikan i sebagai fungsi dari waktu\n",
        "\n",
        "# Persamaan listrik dengan turunan eksplisit\n",
        "eq_listrik = Eq(V, L * Derivative(i, t) + R * i + e)\n",
        "\n",
        "# Menampilkan persamaan\n",
        "display(eq_listrik)\n",
        "\n"
      ],
      "metadata": {
        "colab": {
          "base_uri": "https://localhost:8080/",
          "height": 52
        },
        "id": "DwHtawF7jgJ7",
        "outputId": "7c20fe62-a165-4e5d-ebaa-e6ec29bf08dc"
      },
      "execution_count": 25,
      "outputs": [
        {
          "output_type": "display_data",
          "data": {
            "text/plain": [
              "Eq(V, L*Derivative(i(t), t) + R*i(t) + e)"
            ],
            "text/latex": "$\\displaystyle V = L \\frac{d}{d t} i{\\left(t \\right)} + R i{\\left(t \\right)} + e$"
          },
          "metadata": {}
        }
      ]
    },
    {
      "cell_type": "markdown",
      "source": [
        "## **Persamaan Mekanik Motor DC**\n",
        "Persamaan mekanik dari motor DC berdasarkan hukum kedua Newton untuk rotasi adalah:\n",
        "\n",
        "$$\n",
        "J \\frac{d\\omega}{dt} + B\\omega = T_m\n",
        "$$\n",
        "\n",
        "dengan:  \n",
        "- \\( $J$ \\) = Momen inersia rotor ($kg·m²$)  \n",
        "- \\( $\\omega$ \\) = Kecepatan sudut ($rad/s$)  \n",
        "- \\( $B$ \\) = Koefisien redaman ($N·m·s/rad$)  \n",
        "- \\( $T_m$ \\) = Torsi elektromagnetik ($N·m$)  \n",
        "\n",
        "Torsi elektromagnetik yang dihasilkan motor dapat dinyatakan sebagai:\n",
        "\n",
        "$$\n",
        "T_m = K_T i\n",
        "$$\n",
        "\n",
        "dengan:  \n",
        "- \\( $K_T$ \\) = Konstanta torsi motor ($N·m/A$)  \n",
        "- \\( $i$ \\) = Arus listrik ($A$)  \n",
        "\n",
        "Sehingga jika kita substitusi \\( $T_m$ \\) ke persamaan pertama, diperoleh:\n",
        "\n",
        "$$\n",
        "J \\frac{d\\omega}{dt} + B\\omega = K_T i\n",
        "$$\n"
      ],
      "metadata": {
        "id": "0WXNLD3il39B"
      }
    },
    {
      "cell_type": "code",
      "source": [
        "# Definisi variabel simbolik\n",
        "t = symbols('t')\n",
        "J, B, K_T = symbols('J B K_T')\n",
        "omega = Function('omega')(t)  # Kecepatan sudut sebagai fungsi waktu\n",
        "i = Function('i')(t)  # Arus sebagai fungsi waktu\n",
        "T_m = K_T * i  # Persamaan torsi\n",
        "\n",
        "# Persamaan mekanik\n",
        "eq_mekanik = Eq(J * Derivative(omega, t) + B * omega, T_m)\n",
        "\n",
        "# Menampilkan persamaan\n",
        "display(eq_mekanik)\n"
      ],
      "metadata": {
        "colab": {
          "base_uri": "https://localhost:8080/",
          "height": 52
        },
        "id": "MbegjQzCmXsq",
        "outputId": "ff3269f9-3068-4083-941d-17e73cd46461"
      },
      "execution_count": 26,
      "outputs": [
        {
          "output_type": "display_data",
          "data": {
            "text/plain": [
              "Eq(B*omega(t) + J*Derivative(omega(t), t), K_T*i(t))"
            ],
            "text/latex": "$\\displaystyle B \\omega{\\left(t \\right)} + J \\frac{d}{d t} \\omega{\\left(t \\right)} = K_{T} i{\\left(t \\right)}$"
          },
          "metadata": {}
        }
      ]
    },
    {
      "cell_type": "markdown",
      "source": [
        "## **Transformasi Laplace Model Motor DC**\n",
        "### **1. Transformasi Laplace Persamaan Listrik**\n",
        "Persamaan listrik dalam domain waktu:\n",
        "\n",
        "$$\n",
        "V = L \\frac{di}{dt} + Ri + e\n",
        "$$\n",
        "\n",
        "Dengan Transformasi Laplace:\n",
        "\n",
        "$$\n",
        "V(s) = (L s + R) I(s) + E(s)\n",
        "$$\n",
        "\n",
        "Karena gaya gerak listrik balik:\n",
        "\n",
        "$$\n",
        "E(s) = K_e \\Omega(s)\n",
        "$$\n",
        "\n",
        "Maka, persamaan listrik dalam domain \\( s \\) menjadi:\n",
        "\n",
        "$$\n",
        "V(s) = (L s + R) I(s) + K_e \\Omega(s)\n",
        "$$\n",
        "\n",
        "---\n",
        "\n",
        "### **2. Transformasi Laplace Persamaan Mekanik**\n",
        "Persamaan mekanik dalam domain waktu:\n",
        "\n",
        "$$\n",
        "J \\frac{d\\omega}{dt} + B\\omega = K_T i\n",
        "$$\n",
        "\n",
        "Dengan Transformasi Laplace:\n",
        "\n",
        "$$\n",
        "J s \\Omega(s) + B \\Omega(s) = K_T I(s)\n",
        "$$\n",
        "\n",
        "Atau:\n",
        "\n",
        "$$\n",
        "\\Omega(s) (J s + B) = K_T I(s)\n",
        "$$\n",
        "\n",
        "Sehingga:\n",
        "\n",
        "$$\n",
        "\\Omega(s) = \\frac{K_T}{J s + B} I(s)\n",
        "$$\n"
      ],
      "metadata": {
        "id": "d-naXdkanm7B"
      }
    },
    {
      "cell_type": "code",
      "source": [
        "# Definisi variabel simbolik\n",
        "t, s = symbols('t s')\n",
        "V, L, R, I, E, Ke, omega = symbols('V L R I E K_e omega')\n",
        "J, B, K_T = symbols('J B K_T')\n",
        "\n",
        "# Definisi fungsi dalam domain Laplace\n",
        "I_s = Function('I')(s)\n",
        "Omega_s = Function('Omega')(s)\n",
        "E_s = Ke * Omega_s  # GGL balik dalam domain s\n",
        "\n",
        "# Transformasi Laplace Persamaan Listrik\n",
        "eq_listrik_s = Eq(V, (L * s + R) * I_s + E_s)\n",
        "eq_listrik_s = Eq(eq_listrik_s.lhs, simplify(eq_listrik_s.rhs))\n",
        "\n",
        "# Transformasi Laplace Persamaan Mekanik\n",
        "eq_mekanik_s = Eq((J * s + B) * Omega_s, K_T * I_s)\n",
        "eq_mekanik_s = Eq(eq_mekanik_s.lhs, simplify(eq_mekanik_s.rhs))\n",
        "\n",
        "# Menampilkan hasil\n",
        "display(eq_listrik_s, eq_mekanik_s)\n"
      ],
      "metadata": {
        "colab": {
          "base_uri": "https://localhost:8080/",
          "height": 60
        },
        "id": "KfH29Ga8n0Vg",
        "outputId": "9e5b1541-8bba-44f2-d4e4-b302f1c36467"
      },
      "execution_count": 27,
      "outputs": [
        {
          "output_type": "display_data",
          "data": {
            "text/plain": [
              "Eq(V, K_e*Omega(s) + (L*s + R)*I(s))"
            ],
            "text/latex": "$\\displaystyle V = K_{e} \\Omega{\\left(s \\right)} + \\left(L s + R\\right) I{\\left(s \\right)}$"
          },
          "metadata": {}
        },
        {
          "output_type": "display_data",
          "data": {
            "text/plain": [
              "Eq((B + J*s)*Omega(s), K_T*I(s))"
            ],
            "text/latex": "$\\displaystyle \\left(B + J s\\right) \\Omega{\\left(s \\right)} = K_{T} I{\\left(s \\right)}$"
          },
          "metadata": {}
        }
      ]
    },
    {
      "cell_type": "markdown",
      "source": [
        "## Fungsi Alih Motor DC\n",
        "\n",
        "Fungsi alih dari kecepatan sudut $\\omega(s)$ terhadap tegangan $V(s)$ diperoleh dari persamaan listrik dan mekanik setelah transformasi Laplace.\n",
        "\n",
        "### **1. Persamaan Listrik dalam Domain $s$**\n",
        "$$\n",
        "V(s) = (L s + R) I(s) + K_e \\Omega(s)\n",
        "$$\n",
        "\n",
        "### **2. Persamaan Mekanik dalam Domain $s$**\n",
        "$$\n",
        "(J s + B) \\Omega(s) = K_T I(s)\n",
        "$$\n",
        "\n",
        "### **3. Fungsi Alih $$\\frac{\\Omega(s)}{V(s)}$$**  \n",
        "Dengan mengeliminasi $I(s)$, diperoleh:\n",
        "\n",
        "$$\n",
        "H(s) = \\frac{\\Omega(s)}{V(s)} = \\frac{K_T}{(J s + B)(L s + R) + K_e K_T}\n",
        "$$\n",
        "\n",
        "Fungsi ini menunjukkan bagaimana kecepatan sudut $\\omega(s)$ berubah terhadap tegangan input $V(s)$.\n"
      ],
      "metadata": {
        "id": "352GaKmXrDEB"
      }
    },
    {
      "cell_type": "code",
      "source": [
        "# Menyelesaikan I_s dari persamaan listrik\n",
        "I_s_sol = solve(eq_listrik_s, I_s)[0]\n",
        "\n",
        "# Substitusi I_s ke dalam persamaan mekanik\n",
        "eq_transfer = eq_mekanik_s.subs(I_s, I_s_sol)\n",
        "\n",
        "# Menyelesaikan untuk Omega_s/V_s\n",
        "H_s = solve(eq_transfer, Omega_s)[0] / V\n",
        "\n",
        "# Menampilkan fungsi alih\n",
        "display(Eq(Omega_s / V_s, simplify(H_s)))\n"
      ],
      "metadata": {
        "colab": {
          "base_uri": "https://localhost:8080/",
          "height": 57
        },
        "id": "K7MeNflPrdFQ",
        "outputId": "461a38cb-4b6f-423f-b065-030c9e31d7ac"
      },
      "execution_count": 24,
      "outputs": [
        {
          "output_type": "display_data",
          "data": {
            "text/plain": [
              "Eq(Omega(s)/V(s), K_T/(B*L*s + B*R + J*L*s**2 + J*R*s + K_T*K_e))"
            ],
            "text/latex": "$\\displaystyle \\frac{\\Omega{\\left(s \\right)}}{V{\\left(s \\right)}} = \\frac{K_{T}}{B L s + B R + J L s^{2} + J R s + K_{T} K_{e}}$"
          },
          "metadata": {}
        }
      ]
    }
  ]
}